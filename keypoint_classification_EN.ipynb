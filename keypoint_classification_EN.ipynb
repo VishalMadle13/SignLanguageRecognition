{
 "cells": [
  {
   "cell_type": "code",
   "execution_count": 1,
   "metadata": {
    "id": "igMyGnjE9hEp"
   },
   "outputs": [],
   "source": [
    "import csv\n",
    "\n",
    "import numpy as np\n",
    "import tensorflow as tf\n",
    "from sklearn.model_selection import train_test_split\n",
    "\n",
    "RANDOM_SEED = 42"
   ]
  },
  {
   "cell_type": "markdown",
   "metadata": {
    "id": "t2HDvhIu9hEr"
   },
   "source": [
    "# Specify each path"
   ]
  },
  {
   "cell_type": "code",
   "execution_count": 2,
   "metadata": {
    "id": "9NvZP2Zn9hEy"
   },
   "outputs": [],
   "source": [
    "dataset = 'model/keypoint_classifier/keypoint.csv'\n",
    "model_save_path = 'model/keypoint_classifier/keypoint_classifier.hdf5'\n",
    "tflite_save_path = 'model/keypoint_classifier/keypoint_classifier.tflite'"
   ]
  },
  {
   "cell_type": "markdown",
   "metadata": {
    "id": "s5oMH7x19hEz"
   },
   "source": [
    "# Set number of classes"
   ]
  },
  {
   "cell_type": "code",
   "execution_count": 3,
   "metadata": {
    "id": "du4kodXL9hEz"
   },
   "outputs": [],
   "source": [
    "NUM_CLASSES = 4"
   ]
  },
  {
   "cell_type": "markdown",
   "metadata": {
    "id": "XjnL0uso9hEz"
   },
   "source": [
    "# Dataset reading"
   ]
  },
  {
   "cell_type": "code",
   "execution_count": 4,
   "metadata": {
    "id": "QT5ZqtEz9hE0"
   },
   "outputs": [],
   "source": [
    "X_dataset = np.loadtxt(dataset, delimiter=',', dtype='float32', usecols=list(range(1, (21 * 2) + 1)))"
   ]
  },
  {
   "cell_type": "code",
   "execution_count": 5,
   "metadata": {
    "id": "QmoKFsp49hE0"
   },
   "outputs": [],
   "source": [
    "y_dataset = np.loadtxt(dataset, delimiter=',', dtype='int32', usecols=(0))"
   ]
  },
  {
   "cell_type": "code",
   "execution_count": 6,
   "metadata": {
    "id": "xQU7JTZ_9hE0"
   },
   "outputs": [],
   "source": [
    "X_train, X_test, y_train, y_test = train_test_split(X_dataset, y_dataset, train_size=0.75, random_state=RANDOM_SEED)"
   ]
  },
  {
   "cell_type": "markdown",
   "metadata": {
    "id": "mxK_lETT9hE0"
   },
   "source": [
    "# Model building"
   ]
  },
  {
   "cell_type": "code",
   "execution_count": 7,
   "metadata": {
    "id": "vHBmUf1t9hE1"
   },
   "outputs": [],
   "source": [
    "model = tf.keras.models.Sequential([\n",
    "    tf.keras.layers.Input((21 * 2, )),\n",
    "    tf.keras.layers.Dropout(0.2),\n",
    "    tf.keras.layers.Dense(20, activation='relu'),\n",
    "    tf.keras.layers.Dropout(0.4),\n",
    "    tf.keras.layers.Dense(10, activation='relu'),\n",
    "    tf.keras.layers.Dense(NUM_CLASSES, activation='softmax')\n",
    "])"
   ]
  },
  {
   "cell_type": "code",
   "execution_count": 8,
   "metadata": {
    "colab": {
     "base_uri": "https://localhost:8080/"
    },
    "id": "ypqky9tc9hE1",
    "outputId": "5db082bb-30e3-4110-bf63-a1ee777ecd46"
   },
   "outputs": [
    {
     "name": "stdout",
     "output_type": "stream",
     "text": [
      "Model: \"sequential\"\n",
      "_________________________________________________________________\n",
      " Layer (type)                Output Shape              Param #   \n",
      "=================================================================\n",
      " dropout (Dropout)           (None, 42)                0         \n",
      "                                                                 \n",
      " dense (Dense)               (None, 20)                860       \n",
      "                                                                 \n",
      " dropout_1 (Dropout)         (None, 20)                0         \n",
      "                                                                 \n",
      " dense_1 (Dense)             (None, 10)                210       \n",
      "                                                                 \n",
      " dense_2 (Dense)             (None, 4)                 44        \n",
      "                                                                 \n",
      "=================================================================\n",
      "Total params: 1,114\n",
      "Trainable params: 1,114\n",
      "Non-trainable params: 0\n",
      "_________________________________________________________________\n"
     ]
    }
   ],
   "source": [
    "model.summary()  # tf.keras.utils.plot_model(model, show_shapes=True)"
   ]
  },
  {
   "cell_type": "code",
   "execution_count": 9,
   "metadata": {
    "id": "MbMjOflQ9hE1"
   },
   "outputs": [],
   "source": [
    "# Model checkpoint callback\n",
    "cp_callback = tf.keras.callbacks.ModelCheckpoint(\n",
    "    model_save_path, verbose=1, save_weights_only=False)\n",
    "# Callback for early stopping\n",
    "es_callback = tf.keras.callbacks.EarlyStopping(patience=20, verbose=1)"
   ]
  },
  {
   "cell_type": "code",
   "execution_count": 10,
   "metadata": {
    "id": "c3Dac0M_9hE2"
   },
   "outputs": [],
   "source": [
    "# Model compilation\n",
    "model.compile(\n",
    "    optimizer='adam',\n",
    "    loss='sparse_categorical_crossentropy',\n",
    "    metrics=['accuracy']\n",
    ")"
   ]
  },
  {
   "cell_type": "markdown",
   "metadata": {
    "id": "7XI0j1Iu9hE2"
   },
   "source": [
    "# Model training"
   ]
  },
  {
   "cell_type": "code",
   "execution_count": 11,
   "metadata": {
    "colab": {
     "base_uri": "https://localhost:8080/"
    },
    "id": "WirBl-JE9hE3",
    "outputId": "71b30ca2-8294-4d9d-8aa2-800d90d399de",
    "scrolled": true
   },
   "outputs": [
    {
     "name": "stdout",
     "output_type": "stream",
     "text": [
      "Epoch 1/1000\n",
      " 1/29 [>.............................] - ETA: 16s - loss: 1.4459 - accuracy: 0.3438\n",
      "Epoch 1: saving model to model/keypoint_classifier\\keypoint_classifier.hdf5\n",
      "29/29 [==============================] - 1s 9ms/step - loss: 1.3908 - accuracy: 0.3170 - val_loss: 1.2968 - val_accuracy: 0.3392\n",
      "Epoch 2/1000\n",
      " 1/29 [>.............................] - ETA: 0s - loss: 1.2692 - accuracy: 0.3750\n",
      "Epoch 2: saving model to model/keypoint_classifier\\keypoint_classifier.hdf5\n",
      "29/29 [==============================] - 0s 3ms/step - loss: 1.2911 - accuracy: 0.3454 - val_loss: 1.2426 - val_accuracy: 0.3993\n",
      "Epoch 3/1000\n",
      "25/29 [========================>.....] - ETA: 0s - loss: 1.2514 - accuracy: 0.3725\n",
      "Epoch 3: saving model to model/keypoint_classifier\\keypoint_classifier.hdf5\n",
      "29/29 [==============================] - 0s 4ms/step - loss: 1.2498 - accuracy: 0.3721 - val_loss: 1.2051 - val_accuracy: 0.4745\n",
      "Epoch 4/1000\n",
      "27/29 [==========================>...] - ETA: 0s - loss: 1.2171 - accuracy: 0.4149\n",
      "Epoch 4: saving model to model/keypoint_classifier\\keypoint_classifier.hdf5\n",
      "29/29 [==============================] - 0s 4ms/step - loss: 1.2147 - accuracy: 0.4156 - val_loss: 1.1722 - val_accuracy: 0.5213\n",
      "Epoch 5/1000\n",
      " 1/29 [>.............................] - ETA: 0s - loss: 1.2082 - accuracy: 0.3984\n",
      "Epoch 5: saving model to model/keypoint_classifier\\keypoint_classifier.hdf5\n",
      "29/29 [==============================] - 0s 3ms/step - loss: 1.1886 - accuracy: 0.4178 - val_loss: 1.1330 - val_accuracy: 0.5731\n",
      "Epoch 6/1000\n",
      " 1/29 [>.............................] - ETA: 0s - loss: 1.1674 - accuracy: 0.4297\n",
      "Epoch 6: saving model to model/keypoint_classifier\\keypoint_classifier.hdf5\n",
      "29/29 [==============================] - 0s 3ms/step - loss: 1.1523 - accuracy: 0.4393 - val_loss: 1.0866 - val_accuracy: 0.5856\n",
      "Epoch 7/1000\n",
      " 1/29 [>.............................] - ETA: 0s - loss: 1.1093 - accuracy: 0.5078\n",
      "Epoch 7: saving model to model/keypoint_classifier\\keypoint_classifier.hdf5\n",
      "29/29 [==============================] - 0s 3ms/step - loss: 1.1277 - accuracy: 0.4591 - val_loss: 1.0291 - val_accuracy: 0.6249\n",
      "Epoch 8/1000\n",
      " 1/29 [>.............................] - ETA: 0s - loss: 1.1432 - accuracy: 0.3906\n",
      "Epoch 8: saving model to model/keypoint_classifier\\keypoint_classifier.hdf5\n",
      "29/29 [==============================] - 0s 3ms/step - loss: 1.0712 - accuracy: 0.4900 - val_loss: 0.9608 - val_accuracy: 0.6399\n",
      "Epoch 9/1000\n",
      " 1/29 [>.............................] - ETA: 0s - loss: 1.0724 - accuracy: 0.5234\n",
      "Epoch 9: saving model to model/keypoint_classifier\\keypoint_classifier.hdf5\n",
      "29/29 [==============================] - 0s 3ms/step - loss: 1.0392 - accuracy: 0.4981 - val_loss: 0.8893 - val_accuracy: 0.6859\n",
      "Epoch 10/1000\n",
      " 1/29 [>.............................] - ETA: 0s - loss: 1.0353 - accuracy: 0.4766\n",
      "Epoch 10: saving model to model/keypoint_classifier\\keypoint_classifier.hdf5\n",
      "29/29 [==============================] - 0s 3ms/step - loss: 0.9965 - accuracy: 0.5251 - val_loss: 0.8373 - val_accuracy: 0.7786\n",
      "Epoch 11/1000\n",
      " 1/29 [>.............................] - ETA: 0s - loss: 0.8828 - accuracy: 0.5469\n",
      "Epoch 11: saving model to model/keypoint_classifier\\keypoint_classifier.hdf5\n",
      "29/29 [==============================] - 0s 3ms/step - loss: 0.9624 - accuracy: 0.5426 - val_loss: 0.7794 - val_accuracy: 0.8271\n",
      "Epoch 12/1000\n",
      " 1/29 [>.............................] - ETA: 0s - loss: 0.9701 - accuracy: 0.5469\n",
      "Epoch 12: saving model to model/keypoint_classifier\\keypoint_classifier.hdf5\n",
      "29/29 [==============================] - 0s 3ms/step - loss: 0.9393 - accuracy: 0.5830 - val_loss: 0.7423 - val_accuracy: 0.8454\n",
      "Epoch 13/1000\n",
      " 1/29 [>.............................] - ETA: 0s - loss: 0.8925 - accuracy: 0.5938\n",
      "Epoch 13: saving model to model/keypoint_classifier\\keypoint_classifier.hdf5\n",
      "29/29 [==============================] - 0s 3ms/step - loss: 0.9064 - accuracy: 0.6109 - val_loss: 0.7051 - val_accuracy: 0.8555\n",
      "Epoch 14/1000\n",
      " 1/29 [>.............................] - ETA: 0s - loss: 0.8783 - accuracy: 0.5859\n",
      "Epoch 14: saving model to model/keypoint_classifier\\keypoint_classifier.hdf5\n",
      "29/29 [==============================] - 0s 3ms/step - loss: 0.8800 - accuracy: 0.6234 - val_loss: 0.6675 - val_accuracy: 0.8663\n",
      "Epoch 15/1000\n",
      " 1/29 [>.............................] - ETA: 0s - loss: 0.7974 - accuracy: 0.6875\n",
      "Epoch 15: saving model to model/keypoint_classifier\\keypoint_classifier.hdf5\n",
      "29/29 [==============================] - 0s 3ms/step - loss: 0.8561 - accuracy: 0.6267 - val_loss: 0.6307 - val_accuracy: 0.8705\n",
      "Epoch 16/1000\n",
      " 1/29 [>.............................] - ETA: 0s - loss: 0.8043 - accuracy: 0.6328\n",
      "Epoch 16: saving model to model/keypoint_classifier\\keypoint_classifier.hdf5\n",
      "29/29 [==============================] - 0s 3ms/step - loss: 0.8425 - accuracy: 0.6437 - val_loss: 0.6014 - val_accuracy: 0.8789\n",
      "Epoch 17/1000\n",
      " 1/29 [>.............................] - ETA: 0s - loss: 0.8094 - accuracy: 0.6406\n",
      "Epoch 17: saving model to model/keypoint_classifier\\keypoint_classifier.hdf5\n",
      "29/29 [==============================] - 0s 3ms/step - loss: 0.8124 - accuracy: 0.6538 - val_loss: 0.5793 - val_accuracy: 0.8931\n",
      "Epoch 18/1000\n",
      " 1/29 [>.............................] - ETA: 0s - loss: 0.8523 - accuracy: 0.6094\n",
      "Epoch 18: saving model to model/keypoint_classifier\\keypoint_classifier.hdf5\n",
      "29/29 [==============================] - 0s 3ms/step - loss: 0.8061 - accuracy: 0.6588 - val_loss: 0.5555 - val_accuracy: 0.8931\n",
      "Epoch 19/1000\n",
      " 1/29 [>.............................] - ETA: 0s - loss: 0.7518 - accuracy: 0.6562\n",
      "Epoch 19: saving model to model/keypoint_classifier\\keypoint_classifier.hdf5\n",
      "29/29 [==============================] - 0s 3ms/step - loss: 0.7965 - accuracy: 0.6618 - val_loss: 0.5378 - val_accuracy: 0.9006\n",
      "Epoch 20/1000\n",
      " 1/29 [>.............................] - ETA: 0s - loss: 0.7975 - accuracy: 0.6562\n",
      "Epoch 20: saving model to model/keypoint_classifier\\keypoint_classifier.hdf5\n",
      "29/29 [==============================] - 0s 3ms/step - loss: 0.7759 - accuracy: 0.6855 - val_loss: 0.5174 - val_accuracy: 0.9006\n",
      "Epoch 21/1000\n",
      " 1/29 [>.............................] - ETA: 0s - loss: 0.7149 - accuracy: 0.6875\n",
      "Epoch 21: saving model to model/keypoint_classifier\\keypoint_classifier.hdf5\n",
      "29/29 [==============================] - 0s 3ms/step - loss: 0.7724 - accuracy: 0.6783 - val_loss: 0.5030 - val_accuracy: 0.9006\n",
      "Epoch 22/1000\n",
      " 1/29 [>.............................] - ETA: 0s - loss: 0.7557 - accuracy: 0.7109\n",
      "Epoch 22: saving model to model/keypoint_classifier\\keypoint_classifier.hdf5\n",
      "29/29 [==============================] - 0s 3ms/step - loss: 0.7451 - accuracy: 0.6958 - val_loss: 0.4923 - val_accuracy: 0.9039\n",
      "Epoch 23/1000\n",
      " 1/29 [>.............................] - ETA: 0s - loss: 0.7706 - accuracy: 0.6641\n",
      "Epoch 23: saving model to model/keypoint_classifier\\keypoint_classifier.hdf5\n",
      "29/29 [==============================] - 0s 3ms/step - loss: 0.7550 - accuracy: 0.6869 - val_loss: 0.4806 - val_accuracy: 0.9089\n",
      "Epoch 24/1000\n",
      " 1/29 [>.............................] - ETA: 0s - loss: 0.7438 - accuracy: 0.6641\n",
      "Epoch 24: saving model to model/keypoint_classifier\\keypoint_classifier.hdf5\n",
      "29/29 [==============================] - 0s 3ms/step - loss: 0.7207 - accuracy: 0.7039 - val_loss: 0.4695 - val_accuracy: 0.9165\n",
      "Epoch 25/1000\n",
      " 1/29 [>.............................] - ETA: 0s - loss: 0.6401 - accuracy: 0.7578\n",
      "Epoch 25: saving model to model/keypoint_classifier\\keypoint_classifier.hdf5\n",
      "29/29 [==============================] - 0s 3ms/step - loss: 0.7313 - accuracy: 0.6939 - val_loss: 0.4571 - val_accuracy: 0.9089\n",
      "Epoch 26/1000\n",
      " 1/29 [>.............................] - ETA: 0s - loss: 0.7433 - accuracy: 0.6250\n",
      "Epoch 26: saving model to model/keypoint_classifier\\keypoint_classifier.hdf5\n",
      "29/29 [==============================] - 0s 3ms/step - loss: 0.7096 - accuracy: 0.7134 - val_loss: 0.4410 - val_accuracy: 0.9206\n",
      "Epoch 27/1000\n",
      " 1/29 [>.............................] - ETA: 0s - loss: 0.6804 - accuracy: 0.6875\n",
      "Epoch 27: saving model to model/keypoint_classifier\\keypoint_classifier.hdf5\n",
      "29/29 [==============================] - 0s 3ms/step - loss: 0.6987 - accuracy: 0.7198 - val_loss: 0.4255 - val_accuracy: 0.9240\n",
      "Epoch 28/1000\n"
     ]
    },
    {
     "name": "stdout",
     "output_type": "stream",
     "text": [
      " 1/29 [>.............................] - ETA: 0s - loss: 0.6443 - accuracy: 0.7891\n",
      "Epoch 28: saving model to model/keypoint_classifier\\keypoint_classifier.hdf5\n",
      "29/29 [==============================] - 0s 3ms/step - loss: 0.6927 - accuracy: 0.7248 - val_loss: 0.4091 - val_accuracy: 0.9323\n",
      "Epoch 29/1000\n",
      " 1/29 [>.............................] - ETA: 0s - loss: 0.7710 - accuracy: 0.6797\n",
      "Epoch 29: saving model to model/keypoint_classifier\\keypoint_classifier.hdf5\n",
      "29/29 [==============================] - 0s 3ms/step - loss: 0.7005 - accuracy: 0.7145 - val_loss: 0.4094 - val_accuracy: 0.9315\n",
      "Epoch 30/1000\n",
      " 1/29 [>.............................] - ETA: 0s - loss: 0.6798 - accuracy: 0.6875\n",
      "Epoch 30: saving model to model/keypoint_classifier\\keypoint_classifier.hdf5\n",
      "29/29 [==============================] - 0s 3ms/step - loss: 0.6757 - accuracy: 0.7242 - val_loss: 0.4050 - val_accuracy: 0.9315\n",
      "Epoch 31/1000\n",
      " 1/29 [>.............................] - ETA: 0s - loss: 0.6494 - accuracy: 0.7188\n",
      "Epoch 31: saving model to model/keypoint_classifier\\keypoint_classifier.hdf5\n",
      "29/29 [==============================] - 0s 3ms/step - loss: 0.6751 - accuracy: 0.7279 - val_loss: 0.3920 - val_accuracy: 0.9282\n",
      "Epoch 32/1000\n",
      " 1/29 [>.............................] - ETA: 0s - loss: 0.7967 - accuracy: 0.6719\n",
      "Epoch 32: saving model to model/keypoint_classifier\\keypoint_classifier.hdf5\n",
      "29/29 [==============================] - 0s 3ms/step - loss: 0.6713 - accuracy: 0.7368 - val_loss: 0.3824 - val_accuracy: 0.9298\n",
      "Epoch 33/1000\n",
      " 1/29 [>.............................] - ETA: 0s - loss: 0.5987 - accuracy: 0.7891\n",
      "Epoch 33: saving model to model/keypoint_classifier\\keypoint_classifier.hdf5\n",
      "29/29 [==============================] - 0s 3ms/step - loss: 0.6753 - accuracy: 0.7276 - val_loss: 0.3749 - val_accuracy: 0.9415\n",
      "Epoch 34/1000\n",
      " 1/29 [>.............................] - ETA: 0s - loss: 0.6237 - accuracy: 0.7734\n",
      "Epoch 34: saving model to model/keypoint_classifier\\keypoint_classifier.hdf5\n",
      "29/29 [==============================] - 0s 3ms/step - loss: 0.6678 - accuracy: 0.7382 - val_loss: 0.3789 - val_accuracy: 0.9298\n",
      "Epoch 35/1000\n",
      " 1/29 [>.............................] - ETA: 0s - loss: 0.6102 - accuracy: 0.7656\n",
      "Epoch 35: saving model to model/keypoint_classifier\\keypoint_classifier.hdf5\n",
      "29/29 [==============================] - 0s 3ms/step - loss: 0.6402 - accuracy: 0.7487 - val_loss: 0.3718 - val_accuracy: 0.9298\n",
      "Epoch 36/1000\n",
      " 1/29 [>.............................] - ETA: 0s - loss: 0.6289 - accuracy: 0.7500\n",
      "Epoch 36: saving model to model/keypoint_classifier\\keypoint_classifier.hdf5\n",
      "29/29 [==============================] - 0s 3ms/step - loss: 0.6511 - accuracy: 0.7382 - val_loss: 0.3574 - val_accuracy: 0.9365\n",
      "Epoch 37/1000\n",
      "27/29 [==========================>...] - ETA: 0s - loss: 0.6486 - accuracy: 0.7431\n",
      "Epoch 37: saving model to model/keypoint_classifier\\keypoint_classifier.hdf5\n",
      "29/29 [==============================] - 0s 4ms/step - loss: 0.6477 - accuracy: 0.7443 - val_loss: 0.3617 - val_accuracy: 0.9256\n",
      "Epoch 38/1000\n",
      " 1/29 [>.............................] - ETA: 0s - loss: 0.7750 - accuracy: 0.7031\n",
      "Epoch 38: saving model to model/keypoint_classifier\\keypoint_classifier.hdf5\n",
      "29/29 [==============================] - 0s 3ms/step - loss: 0.6537 - accuracy: 0.7457 - val_loss: 0.3600 - val_accuracy: 0.9307\n",
      "Epoch 39/1000\n",
      " 1/29 [>.............................] - ETA: 0s - loss: 0.6814 - accuracy: 0.7344\n",
      "Epoch 39: saving model to model/keypoint_classifier\\keypoint_classifier.hdf5\n",
      "29/29 [==============================] - 0s 3ms/step - loss: 0.6309 - accuracy: 0.7501 - val_loss: 0.3359 - val_accuracy: 0.9449\n",
      "Epoch 40/1000\n",
      " 1/29 [>.............................] - ETA: 0s - loss: 0.5681 - accuracy: 0.7578\n",
      "Epoch 40: saving model to model/keypoint_classifier\\keypoint_classifier.hdf5\n",
      "29/29 [==============================] - 0s 3ms/step - loss: 0.6275 - accuracy: 0.7546 - val_loss: 0.3397 - val_accuracy: 0.9415\n",
      "Epoch 41/1000\n",
      " 1/29 [>.............................] - ETA: 0s - loss: 0.6591 - accuracy: 0.7188\n",
      "Epoch 41: saving model to model/keypoint_classifier\\keypoint_classifier.hdf5\n",
      "29/29 [==============================] - 0s 3ms/step - loss: 0.6428 - accuracy: 0.7446 - val_loss: 0.3363 - val_accuracy: 0.9407\n",
      "Epoch 42/1000\n",
      " 1/29 [>.............................] - ETA: 0s - loss: 0.6245 - accuracy: 0.7500\n",
      "Epoch 42: saving model to model/keypoint_classifier\\keypoint_classifier.hdf5\n",
      "29/29 [==============================] - 0s 3ms/step - loss: 0.6249 - accuracy: 0.7549 - val_loss: 0.3317 - val_accuracy: 0.9357\n",
      "Epoch 43/1000\n",
      " 1/29 [>.............................] - ETA: 0s - loss: 0.7151 - accuracy: 0.7109\n",
      "Epoch 43: saving model to model/keypoint_classifier\\keypoint_classifier.hdf5\n",
      "29/29 [==============================] - 0s 3ms/step - loss: 0.6134 - accuracy: 0.7510 - val_loss: 0.3310 - val_accuracy: 0.9348\n",
      "Epoch 44/1000\n",
      " 1/29 [>.............................] - ETA: 0s - loss: 0.5878 - accuracy: 0.7734\n",
      "Epoch 44: saving model to model/keypoint_classifier\\keypoint_classifier.hdf5\n",
      "29/29 [==============================] - 0s 3ms/step - loss: 0.6409 - accuracy: 0.7487 - val_loss: 0.3191 - val_accuracy: 0.9449\n",
      "Epoch 45/1000\n",
      " 1/29 [>.............................] - ETA: 0s - loss: 0.6629 - accuracy: 0.6719\n",
      "Epoch 45: saving model to model/keypoint_classifier\\keypoint_classifier.hdf5\n",
      "29/29 [==============================] - 0s 3ms/step - loss: 0.6101 - accuracy: 0.7518 - val_loss: 0.3228 - val_accuracy: 0.9365\n",
      "Epoch 46/1000\n",
      " 1/29 [>.............................] - ETA: 0s - loss: 0.6172 - accuracy: 0.7812\n",
      "Epoch 46: saving model to model/keypoint_classifier\\keypoint_classifier.hdf5\n",
      "29/29 [==============================] - 0s 3ms/step - loss: 0.6225 - accuracy: 0.7560 - val_loss: 0.3135 - val_accuracy: 0.9407\n",
      "Epoch 47/1000\n",
      " 1/29 [>.............................] - ETA: 0s - loss: 0.6635 - accuracy: 0.7578\n",
      "Epoch 47: saving model to model/keypoint_classifier\\keypoint_classifier.hdf5\n",
      "29/29 [==============================] - 0s 3ms/step - loss: 0.6099 - accuracy: 0.7655 - val_loss: 0.3112 - val_accuracy: 0.9432\n",
      "Epoch 48/1000\n",
      " 1/29 [>.............................] - ETA: 0s - loss: 0.5501 - accuracy: 0.8125\n",
      "Epoch 48: saving model to model/keypoint_classifier\\keypoint_classifier.hdf5\n",
      "29/29 [==============================] - 0s 3ms/step - loss: 0.5894 - accuracy: 0.7727 - val_loss: 0.3140 - val_accuracy: 0.9390\n",
      "Epoch 49/1000\n",
      " 1/29 [>.............................] - ETA: 0s - loss: 0.5810 - accuracy: 0.7734\n",
      "Epoch 49: saving model to model/keypoint_classifier\\keypoint_classifier.hdf5\n",
      "29/29 [==============================] - 0s 3ms/step - loss: 0.6045 - accuracy: 0.7632 - val_loss: 0.3108 - val_accuracy: 0.9407\n",
      "Epoch 50/1000\n",
      " 1/29 [>.............................] - ETA: 0s - loss: 0.7301 - accuracy: 0.7266\n",
      "Epoch 50: saving model to model/keypoint_classifier\\keypoint_classifier.hdf5\n",
      "29/29 [==============================] - 0s 3ms/step - loss: 0.6092 - accuracy: 0.7552 - val_loss: 0.3055 - val_accuracy: 0.9424\n",
      "Epoch 51/1000\n",
      " 1/29 [>.............................] - ETA: 0s - loss: 0.6331 - accuracy: 0.7500\n",
      "Epoch 51: saving model to model/keypoint_classifier\\keypoint_classifier.hdf5\n",
      "29/29 [==============================] - 0s 3ms/step - loss: 0.6046 - accuracy: 0.7618 - val_loss: 0.3011 - val_accuracy: 0.9407\n",
      "Epoch 52/1000\n",
      " 1/29 [>.............................] - ETA: 0s - loss: 0.5335 - accuracy: 0.7969\n",
      "Epoch 52: saving model to model/keypoint_classifier\\keypoint_classifier.hdf5\n",
      "29/29 [==============================] - 0s 3ms/step - loss: 0.5866 - accuracy: 0.7660 - val_loss: 0.2990 - val_accuracy: 0.9457\n",
      "Epoch 53/1000\n",
      " 1/29 [>.............................] - ETA: 0s - loss: 0.5849 - accuracy: 0.7812\n",
      "Epoch 53: saving model to model/keypoint_classifier\\keypoint_classifier.hdf5\n",
      "29/29 [==============================] - 0s 3ms/step - loss: 0.5992 - accuracy: 0.7738 - val_loss: 0.3027 - val_accuracy: 0.9390\n",
      "Epoch 54/1000\n",
      " 1/29 [>.............................] - ETA: 0s - loss: 0.5687 - accuracy: 0.7656\n",
      "Epoch 54: saving model to model/keypoint_classifier\\keypoint_classifier.hdf5\n",
      "29/29 [==============================] - 0s 3ms/step - loss: 0.5955 - accuracy: 0.7721 - val_loss: 0.2887 - val_accuracy: 0.9482\n",
      "Epoch 55/1000\n"
     ]
    },
    {
     "name": "stdout",
     "output_type": "stream",
     "text": [
      " 1/29 [>.............................] - ETA: 0s - loss: 0.6108 - accuracy: 0.7812\n",
      "Epoch 55: saving model to model/keypoint_classifier\\keypoint_classifier.hdf5\n",
      "29/29 [==============================] - 0s 3ms/step - loss: 0.6037 - accuracy: 0.7708 - val_loss: 0.2996 - val_accuracy: 0.9390\n",
      "Epoch 56/1000\n",
      " 1/29 [>.............................] - ETA: 0s - loss: 0.5731 - accuracy: 0.7500\n",
      "Epoch 56: saving model to model/keypoint_classifier\\keypoint_classifier.hdf5\n",
      "29/29 [==============================] - 0s 3ms/step - loss: 0.5705 - accuracy: 0.7805 - val_loss: 0.2850 - val_accuracy: 0.9440\n",
      "Epoch 57/1000\n",
      " 1/29 [>.............................] - ETA: 0s - loss: 0.6277 - accuracy: 0.7344\n",
      "Epoch 57: saving model to model/keypoint_classifier\\keypoint_classifier.hdf5\n",
      "29/29 [==============================] - 0s 3ms/step - loss: 0.5687 - accuracy: 0.7786 - val_loss: 0.2832 - val_accuracy: 0.9474\n",
      "Epoch 58/1000\n",
      " 1/29 [>.............................] - ETA: 0s - loss: 0.5540 - accuracy: 0.7578\n",
      "Epoch 58: saving model to model/keypoint_classifier\\keypoint_classifier.hdf5\n",
      "29/29 [==============================] - 0s 3ms/step - loss: 0.5823 - accuracy: 0.7669 - val_loss: 0.2833 - val_accuracy: 0.9449\n",
      "Epoch 59/1000\n",
      " 1/29 [>.............................] - ETA: 0s - loss: 0.6219 - accuracy: 0.7578\n",
      "Epoch 59: saving model to model/keypoint_classifier\\keypoint_classifier.hdf5\n",
      "29/29 [==============================] - 0s 3ms/step - loss: 0.5942 - accuracy: 0.7680 - val_loss: 0.2851 - val_accuracy: 0.9407\n",
      "Epoch 60/1000\n",
      " 1/29 [>.............................] - ETA: 0s - loss: 0.5099 - accuracy: 0.8125\n",
      "Epoch 60: saving model to model/keypoint_classifier\\keypoint_classifier.hdf5\n",
      "29/29 [==============================] - 0s 3ms/step - loss: 0.5679 - accuracy: 0.7838 - val_loss: 0.2882 - val_accuracy: 0.9432\n",
      "Epoch 61/1000\n",
      " 1/29 [>.............................] - ETA: 0s - loss: 0.5344 - accuracy: 0.7656\n",
      "Epoch 61: saving model to model/keypoint_classifier\\keypoint_classifier.hdf5\n",
      "29/29 [==============================] - 0s 3ms/step - loss: 0.5578 - accuracy: 0.7866 - val_loss: 0.2798 - val_accuracy: 0.9415\n",
      "Epoch 62/1000\n",
      " 1/29 [>.............................] - ETA: 0s - loss: 0.5631 - accuracy: 0.8203\n",
      "Epoch 62: saving model to model/keypoint_classifier\\keypoint_classifier.hdf5\n",
      "29/29 [==============================] - 0s 3ms/step - loss: 0.5712 - accuracy: 0.7741 - val_loss: 0.2768 - val_accuracy: 0.9424\n",
      "Epoch 63/1000\n",
      " 1/29 [>.............................] - ETA: 0s - loss: 0.6281 - accuracy: 0.7500\n",
      "Epoch 63: saving model to model/keypoint_classifier\\keypoint_classifier.hdf5\n",
      "29/29 [==============================] - 0s 3ms/step - loss: 0.5732 - accuracy: 0.7783 - val_loss: 0.2820 - val_accuracy: 0.9424\n",
      "Epoch 64/1000\n",
      " 1/29 [>.............................] - ETA: 0s - loss: 0.5277 - accuracy: 0.7891\n",
      "Epoch 64: saving model to model/keypoint_classifier\\keypoint_classifier.hdf5\n",
      "29/29 [==============================] - 0s 3ms/step - loss: 0.5982 - accuracy: 0.7671 - val_loss: 0.2714 - val_accuracy: 0.9457\n",
      "Epoch 65/1000\n",
      " 1/29 [>.............................] - ETA: 0s - loss: 0.5334 - accuracy: 0.7734\n",
      "Epoch 65: saving model to model/keypoint_classifier\\keypoint_classifier.hdf5\n",
      "29/29 [==============================] - 0s 4ms/step - loss: 0.5550 - accuracy: 0.7827 - val_loss: 0.2717 - val_accuracy: 0.9407\n",
      "Epoch 66/1000\n",
      "29/29 [==============================] - ETA: 0s - loss: 0.5594 - accuracy: 0.7794\n",
      "Epoch 66: saving model to model/keypoint_classifier\\keypoint_classifier.hdf5\n",
      "29/29 [==============================] - 0s 4ms/step - loss: 0.5594 - accuracy: 0.7794 - val_loss: 0.2679 - val_accuracy: 0.9432\n",
      "Epoch 67/1000\n",
      " 1/29 [>.............................] - ETA: 0s - loss: 0.4754 - accuracy: 0.8203\n",
      "Epoch 67: saving model to model/keypoint_classifier\\keypoint_classifier.hdf5\n",
      "29/29 [==============================] - 0s 3ms/step - loss: 0.5559 - accuracy: 0.7830 - val_loss: 0.2690 - val_accuracy: 0.9440\n",
      "Epoch 68/1000\n",
      " 1/29 [>.............................] - ETA: 0s - loss: 0.6050 - accuracy: 0.7891\n",
      "Epoch 68: saving model to model/keypoint_classifier\\keypoint_classifier.hdf5\n",
      "29/29 [==============================] - 0s 3ms/step - loss: 0.5695 - accuracy: 0.7797 - val_loss: 0.2716 - val_accuracy: 0.9432\n",
      "Epoch 69/1000\n",
      "29/29 [==============================] - ETA: 0s - loss: 0.5636 - accuracy: 0.7802\n",
      "Epoch 69: saving model to model/keypoint_classifier\\keypoint_classifier.hdf5\n",
      "29/29 [==============================] - 0s 4ms/step - loss: 0.5636 - accuracy: 0.7802 - val_loss: 0.2679 - val_accuracy: 0.9482\n",
      "Epoch 70/1000\n",
      " 1/29 [>.............................] - ETA: 0s - loss: 0.6498 - accuracy: 0.7344\n",
      "Epoch 70: saving model to model/keypoint_classifier\\keypoint_classifier.hdf5\n",
      "29/29 [==============================] - 0s 4ms/step - loss: 0.5831 - accuracy: 0.7727 - val_loss: 0.2696 - val_accuracy: 0.9457\n",
      "Epoch 71/1000\n",
      "29/29 [==============================] - ETA: 0s - loss: 0.5743 - accuracy: 0.7813\n",
      "Epoch 71: saving model to model/keypoint_classifier\\keypoint_classifier.hdf5\n",
      "29/29 [==============================] - 0s 3ms/step - loss: 0.5743 - accuracy: 0.7813 - val_loss: 0.2694 - val_accuracy: 0.9449\n",
      "Epoch 72/1000\n",
      " 1/29 [>.............................] - ETA: 0s - loss: 0.5845 - accuracy: 0.7344\n",
      "Epoch 72: saving model to model/keypoint_classifier\\keypoint_classifier.hdf5\n",
      "29/29 [==============================] - 0s 3ms/step - loss: 0.5580 - accuracy: 0.7747 - val_loss: 0.2697 - val_accuracy: 0.9449\n",
      "Epoch 73/1000\n",
      " 1/29 [>.............................] - ETA: 0s - loss: 0.6465 - accuracy: 0.7031\n",
      "Epoch 73: saving model to model/keypoint_classifier\\keypoint_classifier.hdf5\n",
      "29/29 [==============================] - 0s 3ms/step - loss: 0.5502 - accuracy: 0.7866 - val_loss: 0.2653 - val_accuracy: 0.9507\n",
      "Epoch 74/1000\n",
      "19/29 [==================>...........] - ETA: 0s - loss: 0.5699 - accuracy: 0.7738\n",
      "Epoch 74: saving model to model/keypoint_classifier\\keypoint_classifier.hdf5\n",
      "29/29 [==============================] - 0s 4ms/step - loss: 0.5707 - accuracy: 0.7772 - val_loss: 0.2592 - val_accuracy: 0.9532\n",
      "Epoch 75/1000\n",
      " 1/29 [>.............................] - ETA: 0s - loss: 0.5014 - accuracy: 0.7656\n",
      "Epoch 75: saving model to model/keypoint_classifier\\keypoint_classifier.hdf5\n",
      "29/29 [==============================] - 0s 3ms/step - loss: 0.5684 - accuracy: 0.7774 - val_loss: 0.2616 - val_accuracy: 0.9482\n",
      "Epoch 76/1000\n",
      " 1/29 [>.............................] - ETA: 0s - loss: 0.5970 - accuracy: 0.8125\n",
      "Epoch 76: saving model to model/keypoint_classifier\\keypoint_classifier.hdf5\n",
      "29/29 [==============================] - 0s 3ms/step - loss: 0.5519 - accuracy: 0.7855 - val_loss: 0.2553 - val_accuracy: 0.9507\n",
      "Epoch 77/1000\n",
      " 1/29 [>.............................] - ETA: 0s - loss: 0.4493 - accuracy: 0.8281\n",
      "Epoch 77: saving model to model/keypoint_classifier\\keypoint_classifier.hdf5\n",
      "29/29 [==============================] - 0s 3ms/step - loss: 0.5253 - accuracy: 0.7942 - val_loss: 0.2560 - val_accuracy: 0.9482\n",
      "Epoch 78/1000\n",
      " 1/29 [>.............................] - ETA: 0s - loss: 0.4760 - accuracy: 0.8359\n",
      "Epoch 78: saving model to model/keypoint_classifier\\keypoint_classifier.hdf5\n",
      "29/29 [==============================] - 0s 3ms/step - loss: 0.5646 - accuracy: 0.7813 - val_loss: 0.2563 - val_accuracy: 0.9515\n",
      "Epoch 79/1000\n",
      " 1/29 [>.............................] - ETA: 0s - loss: 0.5059 - accuracy: 0.8281\n",
      "Epoch 79: saving model to model/keypoint_classifier\\keypoint_classifier.hdf5\n",
      "29/29 [==============================] - 0s 3ms/step - loss: 0.5498 - accuracy: 0.7841 - val_loss: 0.2658 - val_accuracy: 0.9474\n",
      "Epoch 80/1000\n",
      " 1/29 [>.............................] - ETA: 0s - loss: 0.5859 - accuracy: 0.7656\n",
      "Epoch 80: saving model to model/keypoint_classifier\\keypoint_classifier.hdf5\n",
      "29/29 [==============================] - 0s 3ms/step - loss: 0.5345 - accuracy: 0.7891 - val_loss: 0.2567 - val_accuracy: 0.9490\n",
      "Epoch 81/1000\n",
      " 1/29 [>.............................] - ETA: 0s - loss: 0.5767 - accuracy: 0.7578\n",
      "Epoch 81: saving model to model/keypoint_classifier\\keypoint_classifier.hdf5\n",
      "29/29 [==============================] - 0s 3ms/step - loss: 0.5411 - accuracy: 0.7889 - val_loss: 0.2575 - val_accuracy: 0.9482\n",
      "Epoch 82/1000\n"
     ]
    },
    {
     "name": "stdout",
     "output_type": "stream",
     "text": [
      " 1/29 [>.............................] - ETA: 0s - loss: 0.5561 - accuracy: 0.8047\n",
      "Epoch 82: saving model to model/keypoint_classifier\\keypoint_classifier.hdf5\n",
      "29/29 [==============================] - 0s 3ms/step - loss: 0.5460 - accuracy: 0.7875 - val_loss: 0.2521 - val_accuracy: 0.9482\n",
      "Epoch 83/1000\n",
      " 1/29 [>.............................] - ETA: 0s - loss: 0.5419 - accuracy: 0.7812\n",
      "Epoch 83: saving model to model/keypoint_classifier\\keypoint_classifier.hdf5\n",
      "29/29 [==============================] - 0s 3ms/step - loss: 0.5500 - accuracy: 0.7813 - val_loss: 0.2487 - val_accuracy: 0.9515\n",
      "Epoch 84/1000\n",
      " 1/29 [>.............................] - ETA: 0s - loss: 0.5310 - accuracy: 0.7969\n",
      "Epoch 84: saving model to model/keypoint_classifier\\keypoint_classifier.hdf5\n",
      "29/29 [==============================] - 0s 3ms/step - loss: 0.5458 - accuracy: 0.7903 - val_loss: 0.2515 - val_accuracy: 0.9507\n",
      "Epoch 85/1000\n",
      " 1/29 [>.............................] - ETA: 0s - loss: 0.5812 - accuracy: 0.7578\n",
      "Epoch 85: saving model to model/keypoint_classifier\\keypoint_classifier.hdf5\n",
      "29/29 [==============================] - 0s 3ms/step - loss: 0.5552 - accuracy: 0.7827 - val_loss: 0.2573 - val_accuracy: 0.9482\n",
      "Epoch 86/1000\n",
      " 1/29 [>.............................] - ETA: 0s - loss: 0.5123 - accuracy: 0.7812\n",
      "Epoch 86: saving model to model/keypoint_classifier\\keypoint_classifier.hdf5\n",
      "29/29 [==============================] - 0s 3ms/step - loss: 0.5393 - accuracy: 0.7852 - val_loss: 0.2513 - val_accuracy: 0.9490\n",
      "Epoch 87/1000\n",
      " 1/29 [>.............................] - ETA: 0s - loss: 0.5592 - accuracy: 0.7656\n",
      "Epoch 87: saving model to model/keypoint_classifier\\keypoint_classifier.hdf5\n",
      "29/29 [==============================] - 0s 3ms/step - loss: 0.5571 - accuracy: 0.7791 - val_loss: 0.2442 - val_accuracy: 0.9490\n",
      "Epoch 88/1000\n",
      " 1/29 [>.............................] - ETA: 0s - loss: 0.5517 - accuracy: 0.8047\n",
      "Epoch 88: saving model to model/keypoint_classifier\\keypoint_classifier.hdf5\n",
      "29/29 [==============================] - 0s 3ms/step - loss: 0.5536 - accuracy: 0.7922 - val_loss: 0.2480 - val_accuracy: 0.9507\n",
      "Epoch 89/1000\n",
      " 1/29 [>.............................] - ETA: 0s - loss: 0.6067 - accuracy: 0.7812\n",
      "Epoch 89: saving model to model/keypoint_classifier\\keypoint_classifier.hdf5\n",
      "29/29 [==============================] - 0s 3ms/step - loss: 0.5449 - accuracy: 0.7838 - val_loss: 0.2508 - val_accuracy: 0.9507\n",
      "Epoch 90/1000\n",
      " 1/29 [>.............................] - ETA: 0s - loss: 0.4945 - accuracy: 0.7969\n",
      "Epoch 90: saving model to model/keypoint_classifier\\keypoint_classifier.hdf5\n",
      "29/29 [==============================] - 0s 3ms/step - loss: 0.5276 - accuracy: 0.7903 - val_loss: 0.2429 - val_accuracy: 0.9499\n",
      "Epoch 91/1000\n",
      " 1/29 [>.............................] - ETA: 0s - loss: 0.6610 - accuracy: 0.8125\n",
      "Epoch 91: saving model to model/keypoint_classifier\\keypoint_classifier.hdf5\n",
      "29/29 [==============================] - 0s 3ms/step - loss: 0.5360 - accuracy: 0.7981 - val_loss: 0.2571 - val_accuracy: 0.9474\n",
      "Epoch 92/1000\n",
      " 1/29 [>.............................] - ETA: 0s - loss: 0.4342 - accuracy: 0.8281\n",
      "Epoch 92: saving model to model/keypoint_classifier\\keypoint_classifier.hdf5\n",
      "29/29 [==============================] - 0s 3ms/step - loss: 0.5192 - accuracy: 0.7992 - val_loss: 0.2431 - val_accuracy: 0.9507\n",
      "Epoch 93/1000\n",
      " 1/29 [>.............................] - ETA: 0s - loss: 0.5733 - accuracy: 0.7734\n",
      "Epoch 93: saving model to model/keypoint_classifier\\keypoint_classifier.hdf5\n",
      "29/29 [==============================] - 0s 3ms/step - loss: 0.5319 - accuracy: 0.7978 - val_loss: 0.2434 - val_accuracy: 0.9499\n",
      "Epoch 94/1000\n",
      " 1/29 [>.............................] - ETA: 0s - loss: 0.5727 - accuracy: 0.7891\n",
      "Epoch 94: saving model to model/keypoint_classifier\\keypoint_classifier.hdf5\n",
      "29/29 [==============================] - 0s 3ms/step - loss: 0.5324 - accuracy: 0.7942 - val_loss: 0.2461 - val_accuracy: 0.9474\n",
      "Epoch 95/1000\n",
      " 1/29 [>.............................] - ETA: 0s - loss: 0.5164 - accuracy: 0.8125\n",
      "Epoch 95: saving model to model/keypoint_classifier\\keypoint_classifier.hdf5\n",
      "29/29 [==============================] - 0s 3ms/step - loss: 0.5212 - accuracy: 0.8047 - val_loss: 0.2367 - val_accuracy: 0.9507\n",
      "Epoch 96/1000\n",
      " 1/29 [>.............................] - ETA: 0s - loss: 0.5765 - accuracy: 0.7734\n",
      "Epoch 96: saving model to model/keypoint_classifier\\keypoint_classifier.hdf5\n",
      "29/29 [==============================] - 0s 3ms/step - loss: 0.5223 - accuracy: 0.7997 - val_loss: 0.2449 - val_accuracy: 0.9465\n",
      "Epoch 97/1000\n",
      " 1/29 [>.............................] - ETA: 0s - loss: 0.4792 - accuracy: 0.8281\n",
      "Epoch 97: saving model to model/keypoint_classifier\\keypoint_classifier.hdf5\n",
      "29/29 [==============================] - 0s 3ms/step - loss: 0.5070 - accuracy: 0.8045 - val_loss: 0.2357 - val_accuracy: 0.9541\n",
      "Epoch 98/1000\n",
      " 1/29 [>.............................] - ETA: 0s - loss: 0.4893 - accuracy: 0.7969\n",
      "Epoch 98: saving model to model/keypoint_classifier\\keypoint_classifier.hdf5\n",
      "29/29 [==============================] - 0s 3ms/step - loss: 0.5363 - accuracy: 0.7886 - val_loss: 0.2375 - val_accuracy: 0.9566\n",
      "Epoch 99/1000\n",
      " 1/29 [>.............................] - ETA: 0s - loss: 0.4681 - accuracy: 0.7891\n",
      "Epoch 99: saving model to model/keypoint_classifier\\keypoint_classifier.hdf5\n",
      "29/29 [==============================] - 0s 3ms/step - loss: 0.5369 - accuracy: 0.7958 - val_loss: 0.2407 - val_accuracy: 0.9524\n",
      "Epoch 100/1000\n",
      " 1/29 [>.............................] - ETA: 0s - loss: 0.4207 - accuracy: 0.8750\n",
      "Epoch 100: saving model to model/keypoint_classifier\\keypoint_classifier.hdf5\n",
      "29/29 [==============================] - 0s 3ms/step - loss: 0.5213 - accuracy: 0.8003 - val_loss: 0.2438 - val_accuracy: 0.9499\n",
      "Epoch 101/1000\n",
      " 1/29 [>.............................] - ETA: 0s - loss: 0.4837 - accuracy: 0.8047\n",
      "Epoch 101: saving model to model/keypoint_classifier\\keypoint_classifier.hdf5\n",
      "29/29 [==============================] - 0s 3ms/step - loss: 0.5244 - accuracy: 0.7981 - val_loss: 0.2427 - val_accuracy: 0.9515\n",
      "Epoch 102/1000\n",
      " 1/29 [>.............................] - ETA: 0s - loss: 0.3961 - accuracy: 0.8359\n",
      "Epoch 102: saving model to model/keypoint_classifier\\keypoint_classifier.hdf5\n",
      "29/29 [==============================] - 0s 3ms/step - loss: 0.5229 - accuracy: 0.7955 - val_loss: 0.2464 - val_accuracy: 0.9507\n",
      "Epoch 103/1000\n",
      " 1/29 [>.............................] - ETA: 0s - loss: 0.5495 - accuracy: 0.8203\n",
      "Epoch 103: saving model to model/keypoint_classifier\\keypoint_classifier.hdf5\n",
      "29/29 [==============================] - 0s 3ms/step - loss: 0.5133 - accuracy: 0.8084 - val_loss: 0.2421 - val_accuracy: 0.9457\n",
      "Epoch 104/1000\n",
      " 1/29 [>.............................] - ETA: 0s - loss: 0.5444 - accuracy: 0.7891\n",
      "Epoch 104: saving model to model/keypoint_classifier\\keypoint_classifier.hdf5\n",
      "29/29 [==============================] - 0s 3ms/step - loss: 0.5332 - accuracy: 0.7936 - val_loss: 0.2509 - val_accuracy: 0.9415\n",
      "Epoch 105/1000\n",
      " 1/29 [>.............................] - ETA: 0s - loss: 0.5228 - accuracy: 0.7891\n",
      "Epoch 105: saving model to model/keypoint_classifier\\keypoint_classifier.hdf5\n",
      "29/29 [==============================] - 0s 3ms/step - loss: 0.5242 - accuracy: 0.7969 - val_loss: 0.2415 - val_accuracy: 0.9465\n",
      "Epoch 106/1000\n",
      " 1/29 [>.............................] - ETA: 0s - loss: 0.5023 - accuracy: 0.8203\n",
      "Epoch 106: saving model to model/keypoint_classifier\\keypoint_classifier.hdf5\n",
      "29/29 [==============================] - 0s 3ms/step - loss: 0.5167 - accuracy: 0.7955 - val_loss: 0.2358 - val_accuracy: 0.9499\n",
      "Epoch 107/1000\n",
      "29/29 [==============================] - ETA: 0s - loss: 0.5089 - accuracy: 0.8131\n",
      "Epoch 107: saving model to model/keypoint_classifier\\keypoint_classifier.hdf5\n",
      "29/29 [==============================] - 0s 3ms/step - loss: 0.5089 - accuracy: 0.8131 - val_loss: 0.2408 - val_accuracy: 0.9507\n",
      "Epoch 108/1000\n",
      " 1/29 [>.............................] - ETA: 0s - loss: 0.6947 - accuracy: 0.7656\n",
      "Epoch 108: saving model to model/keypoint_classifier\\keypoint_classifier.hdf5\n",
      "29/29 [==============================] - 0s 3ms/step - loss: 0.5073 - accuracy: 0.8095 - val_loss: 0.2355 - val_accuracy: 0.9541\n",
      "Epoch 109/1000\n"
     ]
    },
    {
     "name": "stdout",
     "output_type": "stream",
     "text": [
      " 1/29 [>.............................] - ETA: 0s - loss: 0.4602 - accuracy: 0.8047\n",
      "Epoch 109: saving model to model/keypoint_classifier\\keypoint_classifier.hdf5\n",
      "29/29 [==============================] - 0s 3ms/step - loss: 0.5064 - accuracy: 0.8075 - val_loss: 0.2255 - val_accuracy: 0.9549\n",
      "Epoch 110/1000\n",
      " 1/29 [>.............................] - ETA: 0s - loss: 0.5059 - accuracy: 0.8281\n",
      "Epoch 110: saving model to model/keypoint_classifier\\keypoint_classifier.hdf5\n",
      "29/29 [==============================] - 0s 3ms/step - loss: 0.4973 - accuracy: 0.8128 - val_loss: 0.2377 - val_accuracy: 0.9499\n",
      "Epoch 111/1000\n",
      " 1/29 [>.............................] - ETA: 0s - loss: 0.5204 - accuracy: 0.7578\n",
      "Epoch 111: saving model to model/keypoint_classifier\\keypoint_classifier.hdf5\n",
      "29/29 [==============================] - 0s 3ms/step - loss: 0.5048 - accuracy: 0.8036 - val_loss: 0.2380 - val_accuracy: 0.9515\n",
      "Epoch 112/1000\n",
      " 1/29 [>.............................] - ETA: 0s - loss: 0.4020 - accuracy: 0.8828\n",
      "Epoch 112: saving model to model/keypoint_classifier\\keypoint_classifier.hdf5\n",
      "29/29 [==============================] - 0s 3ms/step - loss: 0.4854 - accuracy: 0.8198 - val_loss: 0.2297 - val_accuracy: 0.9515\n",
      "Epoch 113/1000\n",
      " 1/29 [>.............................] - ETA: 0s - loss: 0.4596 - accuracy: 0.7969\n",
      "Epoch 113: saving model to model/keypoint_classifier\\keypoint_classifier.hdf5\n",
      "29/29 [==============================] - 0s 3ms/step - loss: 0.5229 - accuracy: 0.7922 - val_loss: 0.2332 - val_accuracy: 0.9482\n",
      "Epoch 114/1000\n",
      " 1/29 [>.............................] - ETA: 0s - loss: 0.4625 - accuracy: 0.8438\n",
      "Epoch 114: saving model to model/keypoint_classifier\\keypoint_classifier.hdf5\n",
      "29/29 [==============================] - 0s 3ms/step - loss: 0.5265 - accuracy: 0.8003 - val_loss: 0.2309 - val_accuracy: 0.9490\n",
      "Epoch 115/1000\n",
      " 1/29 [>.............................] - ETA: 0s - loss: 0.5850 - accuracy: 0.7812\n",
      "Epoch 115: saving model to model/keypoint_classifier\\keypoint_classifier.hdf5\n",
      "29/29 [==============================] - 0s 3ms/step - loss: 0.5146 - accuracy: 0.7992 - val_loss: 0.2309 - val_accuracy: 0.9524\n",
      "Epoch 116/1000\n",
      " 1/29 [>.............................] - ETA: 0s - loss: 0.4234 - accuracy: 0.8047\n",
      "Epoch 116: saving model to model/keypoint_classifier\\keypoint_classifier.hdf5\n",
      "29/29 [==============================] - 0s 3ms/step - loss: 0.4898 - accuracy: 0.8117 - val_loss: 0.2412 - val_accuracy: 0.9424\n",
      "Epoch 117/1000\n",
      " 1/29 [>.............................] - ETA: 0s - loss: 0.4324 - accuracy: 0.8438\n",
      "Epoch 117: saving model to model/keypoint_classifier\\keypoint_classifier.hdf5\n",
      "29/29 [==============================] - 0s 3ms/step - loss: 0.4959 - accuracy: 0.8131 - val_loss: 0.2272 - val_accuracy: 0.9524\n",
      "Epoch 118/1000\n",
      " 1/29 [>.............................] - ETA: 0s - loss: 0.4572 - accuracy: 0.7969\n",
      "Epoch 118: saving model to model/keypoint_classifier\\keypoint_classifier.hdf5\n",
      "29/29 [==============================] - 0s 3ms/step - loss: 0.5125 - accuracy: 0.8019 - val_loss: 0.2361 - val_accuracy: 0.9457\n",
      "Epoch 119/1000\n",
      " 1/29 [>.............................] - ETA: 0s - loss: 0.5893 - accuracy: 0.7656\n",
      "Epoch 119: saving model to model/keypoint_classifier\\keypoint_classifier.hdf5\n",
      "29/29 [==============================] - 0s 3ms/step - loss: 0.5080 - accuracy: 0.8022 - val_loss: 0.2321 - val_accuracy: 0.9532\n",
      "Epoch 120/1000\n",
      " 1/29 [>.............................] - ETA: 0s - loss: 0.4854 - accuracy: 0.7891\n",
      "Epoch 120: saving model to model/keypoint_classifier\\keypoint_classifier.hdf5\n",
      "29/29 [==============================] - 0s 3ms/step - loss: 0.4898 - accuracy: 0.8100 - val_loss: 0.2251 - val_accuracy: 0.9532\n",
      "Epoch 121/1000\n",
      " 1/29 [>.............................] - ETA: 0s - loss: 0.4402 - accuracy: 0.8516\n",
      "Epoch 121: saving model to model/keypoint_classifier\\keypoint_classifier.hdf5\n",
      "29/29 [==============================] - 0s 3ms/step - loss: 0.5140 - accuracy: 0.8017 - val_loss: 0.2201 - val_accuracy: 0.9549\n",
      "Epoch 122/1000\n",
      " 1/29 [>.............................] - ETA: 0s - loss: 0.4965 - accuracy: 0.7969\n",
      "Epoch 122: saving model to model/keypoint_classifier\\keypoint_classifier.hdf5\n",
      "29/29 [==============================] - 0s 3ms/step - loss: 0.5049 - accuracy: 0.8092 - val_loss: 0.2310 - val_accuracy: 0.9449\n",
      "Epoch 123/1000\n",
      "29/29 [==============================] - ETA: 0s - loss: 0.4929 - accuracy: 0.8145\n",
      "Epoch 123: saving model to model/keypoint_classifier\\keypoint_classifier.hdf5\n",
      "29/29 [==============================] - 0s 4ms/step - loss: 0.4929 - accuracy: 0.8145 - val_loss: 0.2315 - val_accuracy: 0.9440\n",
      "Epoch 124/1000\n",
      " 1/29 [>.............................] - ETA: 0s - loss: 0.5051 - accuracy: 0.8047\n",
      "Epoch 124: saving model to model/keypoint_classifier\\keypoint_classifier.hdf5\n",
      "29/29 [==============================] - 0s 3ms/step - loss: 0.5067 - accuracy: 0.8017 - val_loss: 0.2222 - val_accuracy: 0.9549\n",
      "Epoch 125/1000\n",
      " 1/29 [>.............................] - ETA: 0s - loss: 0.4581 - accuracy: 0.8906\n",
      "Epoch 125: saving model to model/keypoint_classifier\\keypoint_classifier.hdf5\n",
      "29/29 [==============================] - 0s 3ms/step - loss: 0.5080 - accuracy: 0.8056 - val_loss: 0.2269 - val_accuracy: 0.9524\n",
      "Epoch 126/1000\n",
      " 1/29 [>.............................] - ETA: 0s - loss: 0.5152 - accuracy: 0.8047\n",
      "Epoch 126: saving model to model/keypoint_classifier\\keypoint_classifier.hdf5\n",
      "29/29 [==============================] - 0s 3ms/step - loss: 0.4958 - accuracy: 0.8081 - val_loss: 0.2291 - val_accuracy: 0.9482\n",
      "Epoch 127/1000\n",
      " 1/29 [>.............................] - ETA: 0s - loss: 0.4939 - accuracy: 0.7969\n",
      "Epoch 127: saving model to model/keypoint_classifier\\keypoint_classifier.hdf5\n",
      "29/29 [==============================] - 0s 3ms/step - loss: 0.5060 - accuracy: 0.8008 - val_loss: 0.2194 - val_accuracy: 0.9574\n",
      "Epoch 128/1000\n",
      " 1/29 [>.............................] - ETA: 0s - loss: 0.5944 - accuracy: 0.7969\n",
      "Epoch 128: saving model to model/keypoint_classifier\\keypoint_classifier.hdf5\n",
      "29/29 [==============================] - 0s 3ms/step - loss: 0.5129 - accuracy: 0.8097 - val_loss: 0.2180 - val_accuracy: 0.9599\n",
      "Epoch 129/1000\n",
      " 1/29 [>.............................] - ETA: 0s - loss: 0.6084 - accuracy: 0.7578\n",
      "Epoch 129: saving model to model/keypoint_classifier\\keypoint_classifier.hdf5\n",
      "29/29 [==============================] - 0s 3ms/step - loss: 0.4958 - accuracy: 0.8072 - val_loss: 0.2297 - val_accuracy: 0.9465\n",
      "Epoch 130/1000\n",
      " 1/29 [>.............................] - ETA: 0s - loss: 0.3470 - accuracy: 0.8750\n",
      "Epoch 130: saving model to model/keypoint_classifier\\keypoint_classifier.hdf5\n",
      "29/29 [==============================] - 0s 3ms/step - loss: 0.4802 - accuracy: 0.8189 - val_loss: 0.2266 - val_accuracy: 0.9457\n",
      "Epoch 131/1000\n",
      " 1/29 [>.............................] - ETA: 0s - loss: 0.5117 - accuracy: 0.7812\n",
      "Epoch 131: saving model to model/keypoint_classifier\\keypoint_classifier.hdf5\n",
      "29/29 [==============================] - 0s 3ms/step - loss: 0.5117 - accuracy: 0.8011 - val_loss: 0.2304 - val_accuracy: 0.9465\n",
      "Epoch 132/1000\n",
      " 1/29 [>.............................] - ETA: 0s - loss: 0.5273 - accuracy: 0.7578\n",
      "Epoch 132: saving model to model/keypoint_classifier\\keypoint_classifier.hdf5\n",
      "29/29 [==============================] - 0s 3ms/step - loss: 0.5164 - accuracy: 0.7992 - val_loss: 0.2208 - val_accuracy: 0.9549\n",
      "Epoch 133/1000\n",
      " 1/29 [>.............................] - ETA: 0s - loss: 0.5997 - accuracy: 0.7656\n",
      "Epoch 133: saving model to model/keypoint_classifier\\keypoint_classifier.hdf5\n",
      "29/29 [==============================] - 0s 3ms/step - loss: 0.5030 - accuracy: 0.8061 - val_loss: 0.2277 - val_accuracy: 0.9490\n",
      "Epoch 134/1000\n",
      "28/29 [===========================>..] - ETA: 0s - loss: 0.4981 - accuracy: 0.8072\n",
      "Epoch 134: saving model to model/keypoint_classifier\\keypoint_classifier.hdf5\n",
      "29/29 [==============================] - 0s 3ms/step - loss: 0.4980 - accuracy: 0.8072 - val_loss: 0.2282 - val_accuracy: 0.9482\n",
      "Epoch 135/1000\n",
      " 1/29 [>.............................] - ETA: 0s - loss: 0.4726 - accuracy: 0.8125\n",
      "Epoch 135: saving model to model/keypoint_classifier\\keypoint_classifier.hdf5\n",
      "29/29 [==============================] - 0s 3ms/step - loss: 0.4892 - accuracy: 0.8136 - val_loss: 0.2376 - val_accuracy: 0.9373\n"
     ]
    },
    {
     "name": "stdout",
     "output_type": "stream",
     "text": [
      "Epoch 136/1000\n",
      " 1/29 [>.............................] - ETA: 0s - loss: 0.5608 - accuracy: 0.7656\n",
      "Epoch 136: saving model to model/keypoint_classifier\\keypoint_classifier.hdf5\n",
      "29/29 [==============================] - 0s 3ms/step - loss: 0.5100 - accuracy: 0.8050 - val_loss: 0.2184 - val_accuracy: 0.9515\n",
      "Epoch 137/1000\n",
      " 1/29 [>.............................] - ETA: 0s - loss: 0.4824 - accuracy: 0.8359\n",
      "Epoch 137: saving model to model/keypoint_classifier\\keypoint_classifier.hdf5\n",
      "29/29 [==============================] - 0s 3ms/step - loss: 0.4934 - accuracy: 0.8139 - val_loss: 0.2290 - val_accuracy: 0.9465\n",
      "Epoch 138/1000\n",
      " 1/29 [>.............................] - ETA: 0s - loss: 0.4392 - accuracy: 0.8281\n",
      "Epoch 138: saving model to model/keypoint_classifier\\keypoint_classifier.hdf5\n",
      "29/29 [==============================] - 0s 3ms/step - loss: 0.4885 - accuracy: 0.8089 - val_loss: 0.2137 - val_accuracy: 0.9532\n",
      "Epoch 139/1000\n",
      " 1/29 [>.............................] - ETA: 0s - loss: 0.5498 - accuracy: 0.7969\n",
      "Epoch 139: saving model to model/keypoint_classifier\\keypoint_classifier.hdf5\n",
      "29/29 [==============================] - 0s 3ms/step - loss: 0.4807 - accuracy: 0.8164 - val_loss: 0.2156 - val_accuracy: 0.9532\n",
      "Epoch 140/1000\n",
      " 1/29 [>.............................] - ETA: 0s - loss: 0.4083 - accuracy: 0.8516\n",
      "Epoch 140: saving model to model/keypoint_classifier\\keypoint_classifier.hdf5\n",
      "29/29 [==============================] - 0s 3ms/step - loss: 0.4785 - accuracy: 0.8214 - val_loss: 0.2170 - val_accuracy: 0.9524\n",
      "Epoch 141/1000\n",
      " 1/29 [>.............................] - ETA: 0s - loss: 0.4694 - accuracy: 0.8281\n",
      "Epoch 141: saving model to model/keypoint_classifier\\keypoint_classifier.hdf5\n",
      "29/29 [==============================] - 0s 3ms/step - loss: 0.4808 - accuracy: 0.8175 - val_loss: 0.2116 - val_accuracy: 0.9541\n",
      "Epoch 142/1000\n",
      " 1/29 [>.............................] - ETA: 0s - loss: 0.4773 - accuracy: 0.7969\n",
      "Epoch 142: saving model to model/keypoint_classifier\\keypoint_classifier.hdf5\n",
      "29/29 [==============================] - 0s 3ms/step - loss: 0.5054 - accuracy: 0.8058 - val_loss: 0.2156 - val_accuracy: 0.9499\n",
      "Epoch 143/1000\n",
      " 1/29 [>.............................] - ETA: 0s - loss: 0.4766 - accuracy: 0.8281\n",
      "Epoch 143: saving model to model/keypoint_classifier\\keypoint_classifier.hdf5\n",
      "29/29 [==============================] - 0s 3ms/step - loss: 0.4818 - accuracy: 0.8170 - val_loss: 0.2222 - val_accuracy: 0.9465\n",
      "Epoch 144/1000\n",
      " 1/29 [>.............................] - ETA: 0s - loss: 0.6052 - accuracy: 0.7969\n",
      "Epoch 144: saving model to model/keypoint_classifier\\keypoint_classifier.hdf5\n",
      "29/29 [==============================] - 0s 3ms/step - loss: 0.4841 - accuracy: 0.8072 - val_loss: 0.2274 - val_accuracy: 0.9424\n",
      "Epoch 145/1000\n",
      " 1/29 [>.............................] - ETA: 0s - loss: 0.4961 - accuracy: 0.8047\n",
      "Epoch 145: saving model to model/keypoint_classifier\\keypoint_classifier.hdf5\n",
      "29/29 [==============================] - 0s 3ms/step - loss: 0.4853 - accuracy: 0.8159 - val_loss: 0.2078 - val_accuracy: 0.9582\n",
      "Epoch 146/1000\n",
      " 1/29 [>.............................] - ETA: 0s - loss: 0.5601 - accuracy: 0.7812\n",
      "Epoch 146: saving model to model/keypoint_classifier\\keypoint_classifier.hdf5\n",
      "29/29 [==============================] - 0s 3ms/step - loss: 0.4867 - accuracy: 0.8128 - val_loss: 0.2187 - val_accuracy: 0.9482\n",
      "Epoch 147/1000\n",
      " 1/29 [>.............................] - ETA: 0s - loss: 0.4034 - accuracy: 0.8203\n",
      "Epoch 147: saving model to model/keypoint_classifier\\keypoint_classifier.hdf5\n",
      "29/29 [==============================] - 0s 3ms/step - loss: 0.4750 - accuracy: 0.8164 - val_loss: 0.2285 - val_accuracy: 0.9407\n",
      "Epoch 148/1000\n",
      " 1/29 [>.............................] - ETA: 0s - loss: 0.4599 - accuracy: 0.8281\n",
      "Epoch 148: saving model to model/keypoint_classifier\\keypoint_classifier.hdf5\n",
      "29/29 [==============================] - 0s 3ms/step - loss: 0.4816 - accuracy: 0.8092 - val_loss: 0.2309 - val_accuracy: 0.9440\n",
      "Epoch 149/1000\n",
      " 1/29 [>.............................] - ETA: 0s - loss: 0.5257 - accuracy: 0.7812\n",
      "Epoch 149: saving model to model/keypoint_classifier\\keypoint_classifier.hdf5\n",
      "29/29 [==============================] - 0s 3ms/step - loss: 0.5024 - accuracy: 0.8111 - val_loss: 0.2278 - val_accuracy: 0.9415\n",
      "Epoch 150/1000\n",
      " 1/29 [>.............................] - ETA: 0s - loss: 0.4968 - accuracy: 0.8125\n",
      "Epoch 150: saving model to model/keypoint_classifier\\keypoint_classifier.hdf5\n",
      "29/29 [==============================] - 0s 3ms/step - loss: 0.4751 - accuracy: 0.8195 - val_loss: 0.2262 - val_accuracy: 0.9432\n",
      "Epoch 151/1000\n",
      " 1/29 [>.............................] - ETA: 0s - loss: 0.4598 - accuracy: 0.8203\n",
      "Epoch 151: saving model to model/keypoint_classifier\\keypoint_classifier.hdf5\n",
      "29/29 [==============================] - 0s 3ms/step - loss: 0.4755 - accuracy: 0.8142 - val_loss: 0.2114 - val_accuracy: 0.9490\n",
      "Epoch 152/1000\n",
      "28/29 [===========================>..] - ETA: 0s - loss: 0.4807 - accuracy: 0.8172\n",
      "Epoch 152: saving model to model/keypoint_classifier\\keypoint_classifier.hdf5\n",
      "29/29 [==============================] - 0s 4ms/step - loss: 0.4810 - accuracy: 0.8170 - val_loss: 0.2149 - val_accuracy: 0.9465\n",
      "Epoch 153/1000\n",
      "29/29 [==============================] - ETA: 0s - loss: 0.4720 - accuracy: 0.8184\n",
      "Epoch 153: saving model to model/keypoint_classifier\\keypoint_classifier.hdf5\n",
      "29/29 [==============================] - 0s 4ms/step - loss: 0.4720 - accuracy: 0.8184 - val_loss: 0.2124 - val_accuracy: 0.9457\n",
      "Epoch 154/1000\n",
      "29/29 [==============================] - ETA: 0s - loss: 0.5041 - accuracy: 0.8058\n",
      "Epoch 154: saving model to model/keypoint_classifier\\keypoint_classifier.hdf5\n",
      "29/29 [==============================] - 0s 4ms/step - loss: 0.5041 - accuracy: 0.8058 - val_loss: 0.2253 - val_accuracy: 0.9415\n",
      "Epoch 155/1000\n",
      "28/29 [===========================>..] - ETA: 0s - loss: 0.4719 - accuracy: 0.8211\n",
      "Epoch 155: saving model to model/keypoint_classifier\\keypoint_classifier.hdf5\n",
      "29/29 [==============================] - 0s 4ms/step - loss: 0.4721 - accuracy: 0.8209 - val_loss: 0.2125 - val_accuracy: 0.9532\n",
      "Epoch 156/1000\n",
      " 1/29 [>.............................] - ETA: 0s - loss: 0.4313 - accuracy: 0.8359\n",
      "Epoch 156: saving model to model/keypoint_classifier\\keypoint_classifier.hdf5\n",
      "29/29 [==============================] - 0s 4ms/step - loss: 0.5004 - accuracy: 0.8117 - val_loss: 0.2185 - val_accuracy: 0.9457\n",
      "Epoch 157/1000\n",
      " 1/29 [>.............................] - ETA: 0s - loss: 0.6807 - accuracy: 0.7891\n",
      "Epoch 157: saving model to model/keypoint_classifier\\keypoint_classifier.hdf5\n",
      "29/29 [==============================] - 0s 4ms/step - loss: 0.4891 - accuracy: 0.8136 - val_loss: 0.2215 - val_accuracy: 0.9507\n",
      "Epoch 158/1000\n",
      "23/29 [======================>.......] - ETA: 0s - loss: 0.4638 - accuracy: 0.8305\n",
      "Epoch 158: saving model to model/keypoint_classifier\\keypoint_classifier.hdf5\n",
      "29/29 [==============================] - 0s 5ms/step - loss: 0.4642 - accuracy: 0.8312 - val_loss: 0.2178 - val_accuracy: 0.9549\n",
      "Epoch 159/1000\n",
      "25/29 [========================>.....] - ETA: 0s - loss: 0.5069 - accuracy: 0.8025\n",
      "Epoch 159: saving model to model/keypoint_classifier\\keypoint_classifier.hdf5\n",
      "29/29 [==============================] - 0s 4ms/step - loss: 0.4994 - accuracy: 0.8070 - val_loss: 0.2223 - val_accuracy: 0.9524\n",
      "Epoch 160/1000\n",
      "28/29 [===========================>..] - ETA: 0s - loss: 0.4840 - accuracy: 0.8161\n",
      "Epoch 160: saving model to model/keypoint_classifier\\keypoint_classifier.hdf5\n",
      "29/29 [==============================] - 0s 4ms/step - loss: 0.4837 - accuracy: 0.8162 - val_loss: 0.2204 - val_accuracy: 0.9449\n",
      "Epoch 161/1000\n",
      "29/29 [==============================] - ETA: 0s - loss: 0.4944 - accuracy: 0.8061\n",
      "Epoch 161: saving model to model/keypoint_classifier\\keypoint_classifier.hdf5\n",
      "29/29 [==============================] - 0s 4ms/step - loss: 0.4944 - accuracy: 0.8061 - val_loss: 0.2223 - val_accuracy: 0.9440\n",
      "Epoch 162/1000\n",
      " 1/29 [>.............................] - ETA: 0s - loss: 0.5356 - accuracy: 0.8047\n",
      "Epoch 162: saving model to model/keypoint_classifier\\keypoint_classifier.hdf5\n",
      "29/29 [==============================] - 0s 4ms/step - loss: 0.4776 - accuracy: 0.8142 - val_loss: 0.2180 - val_accuracy: 0.9465\n"
     ]
    },
    {
     "name": "stdout",
     "output_type": "stream",
     "text": [
      "Epoch 163/1000\n",
      "29/29 [==============================] - ETA: 0s - loss: 0.4741 - accuracy: 0.8253\n",
      "Epoch 163: saving model to model/keypoint_classifier\\keypoint_classifier.hdf5\n",
      "29/29 [==============================] - 0s 4ms/step - loss: 0.4741 - accuracy: 0.8253 - val_loss: 0.2167 - val_accuracy: 0.9457\n",
      "Epoch 164/1000\n",
      " 1/29 [>.............................] - ETA: 0s - loss: 0.5837 - accuracy: 0.7812\n",
      "Epoch 164: saving model to model/keypoint_classifier\\keypoint_classifier.hdf5\n",
      "29/29 [==============================] - 0s 3ms/step - loss: 0.4704 - accuracy: 0.8242 - val_loss: 0.2115 - val_accuracy: 0.9515\n",
      "Epoch 165/1000\n",
      "28/29 [===========================>..] - ETA: 0s - loss: 0.4801 - accuracy: 0.8167\n",
      "Epoch 165: saving model to model/keypoint_classifier\\keypoint_classifier.hdf5\n",
      "29/29 [==============================] - 0s 4ms/step - loss: 0.4798 - accuracy: 0.8170 - val_loss: 0.2001 - val_accuracy: 0.9566\n",
      "Epoch 166/1000\n",
      " 1/29 [>.............................] - ETA: 0s - loss: 0.4683 - accuracy: 0.7891\n",
      "Epoch 166: saving model to model/keypoint_classifier\\keypoint_classifier.hdf5\n",
      "29/29 [==============================] - 0s 3ms/step - loss: 0.4749 - accuracy: 0.8212 - val_loss: 0.2143 - val_accuracy: 0.9440\n",
      "Epoch 167/1000\n",
      " 1/29 [>.............................] - ETA: 0s - loss: 0.3986 - accuracy: 0.8594\n",
      "Epoch 167: saving model to model/keypoint_classifier\\keypoint_classifier.hdf5\n",
      "29/29 [==============================] - 0s 3ms/step - loss: 0.4584 - accuracy: 0.8240 - val_loss: 0.2174 - val_accuracy: 0.9398\n",
      "Epoch 168/1000\n",
      " 1/29 [>.............................] - ETA: 0s - loss: 0.4645 - accuracy: 0.7969\n",
      "Epoch 168: saving model to model/keypoint_classifier\\keypoint_classifier.hdf5\n",
      "29/29 [==============================] - 0s 3ms/step - loss: 0.4697 - accuracy: 0.8189 - val_loss: 0.2098 - val_accuracy: 0.9465\n",
      "Epoch 169/1000\n",
      " 1/29 [>.............................] - ETA: 0s - loss: 0.4630 - accuracy: 0.8203\n",
      "Epoch 169: saving model to model/keypoint_classifier\\keypoint_classifier.hdf5\n",
      "29/29 [==============================] - 0s 3ms/step - loss: 0.4715 - accuracy: 0.8173 - val_loss: 0.2077 - val_accuracy: 0.9515\n",
      "Epoch 170/1000\n",
      " 1/29 [>.............................] - ETA: 0s - loss: 0.4078 - accuracy: 0.8594\n",
      "Epoch 170: saving model to model/keypoint_classifier\\keypoint_classifier.hdf5\n",
      "29/29 [==============================] - 0s 3ms/step - loss: 0.4766 - accuracy: 0.8148 - val_loss: 0.2168 - val_accuracy: 0.9424\n",
      "Epoch 171/1000\n",
      " 1/29 [>.............................] - ETA: 0s - loss: 0.4483 - accuracy: 0.8438\n",
      "Epoch 171: saving model to model/keypoint_classifier\\keypoint_classifier.hdf5\n",
      "29/29 [==============================] - 0s 3ms/step - loss: 0.4640 - accuracy: 0.8248 - val_loss: 0.1990 - val_accuracy: 0.9557\n",
      "Epoch 172/1000\n",
      " 1/29 [>.............................] - ETA: 0s - loss: 0.3759 - accuracy: 0.8438\n",
      "Epoch 172: saving model to model/keypoint_classifier\\keypoint_classifier.hdf5\n",
      "29/29 [==============================] - 0s 3ms/step - loss: 0.4713 - accuracy: 0.8178 - val_loss: 0.2129 - val_accuracy: 0.9465\n",
      "Epoch 173/1000\n",
      " 1/29 [>.............................] - ETA: 0s - loss: 0.3987 - accuracy: 0.8438\n",
      "Epoch 173: saving model to model/keypoint_classifier\\keypoint_classifier.hdf5\n",
      "29/29 [==============================] - 0s 3ms/step - loss: 0.4670 - accuracy: 0.8237 - val_loss: 0.2049 - val_accuracy: 0.9524\n",
      "Epoch 174/1000\n",
      " 1/29 [>.............................] - ETA: 0s - loss: 0.4948 - accuracy: 0.8203\n",
      "Epoch 174: saving model to model/keypoint_classifier\\keypoint_classifier.hdf5\n",
      "29/29 [==============================] - 0s 3ms/step - loss: 0.4678 - accuracy: 0.8242 - val_loss: 0.2116 - val_accuracy: 0.9474\n",
      "Epoch 175/1000\n",
      " 1/29 [>.............................] - ETA: 0s - loss: 0.5400 - accuracy: 0.7734\n",
      "Epoch 175: saving model to model/keypoint_classifier\\keypoint_classifier.hdf5\n",
      "29/29 [==============================] - 0s 3ms/step - loss: 0.4619 - accuracy: 0.8198 - val_loss: 0.2150 - val_accuracy: 0.9482\n",
      "Epoch 176/1000\n",
      " 1/29 [>.............................] - ETA: 0s - loss: 0.4163 - accuracy: 0.8750\n",
      "Epoch 176: saving model to model/keypoint_classifier\\keypoint_classifier.hdf5\n",
      "29/29 [==============================] - 0s 3ms/step - loss: 0.4885 - accuracy: 0.8181 - val_loss: 0.2143 - val_accuracy: 0.9449\n",
      "Epoch 177/1000\n",
      " 1/29 [>.............................] - ETA: 0s - loss: 0.5924 - accuracy: 0.7734\n",
      "Epoch 177: saving model to model/keypoint_classifier\\keypoint_classifier.hdf5\n",
      "29/29 [==============================] - 0s 3ms/step - loss: 0.4647 - accuracy: 0.8187 - val_loss: 0.2063 - val_accuracy: 0.9499\n",
      "Epoch 178/1000\n",
      " 1/29 [>.............................] - ETA: 0s - loss: 0.4372 - accuracy: 0.8203\n",
      "Epoch 178: saving model to model/keypoint_classifier\\keypoint_classifier.hdf5\n",
      "29/29 [==============================] - 0s 3ms/step - loss: 0.4699 - accuracy: 0.8198 - val_loss: 0.2085 - val_accuracy: 0.9449\n",
      "Epoch 179/1000\n",
      " 1/29 [>.............................] - ETA: 0s - loss: 0.5131 - accuracy: 0.7812\n",
      "Epoch 179: saving model to model/keypoint_classifier\\keypoint_classifier.hdf5\n",
      "29/29 [==============================] - 0s 3ms/step - loss: 0.4711 - accuracy: 0.8237 - val_loss: 0.2087 - val_accuracy: 0.9474\n",
      "Epoch 180/1000\n",
      " 1/29 [>.............................] - ETA: 0s - loss: 0.5048 - accuracy: 0.7734\n",
      "Epoch 180: saving model to model/keypoint_classifier\\keypoint_classifier.hdf5\n",
      "29/29 [==============================] - 0s 3ms/step - loss: 0.4871 - accuracy: 0.8142 - val_loss: 0.2147 - val_accuracy: 0.9440\n",
      "Epoch 181/1000\n",
      " 1/29 [>.............................] - ETA: 0s - loss: 0.3990 - accuracy: 0.8281\n",
      "Epoch 181: saving model to model/keypoint_classifier\\keypoint_classifier.hdf5\n",
      "29/29 [==============================] - 0s 3ms/step - loss: 0.4657 - accuracy: 0.8273 - val_loss: 0.2070 - val_accuracy: 0.9490\n",
      "Epoch 182/1000\n",
      " 1/29 [>.............................] - ETA: 0s - loss: 0.4558 - accuracy: 0.8047\n",
      "Epoch 182: saving model to model/keypoint_classifier\\keypoint_classifier.hdf5\n",
      "29/29 [==============================] - 0s 3ms/step - loss: 0.4669 - accuracy: 0.8153 - val_loss: 0.2103 - val_accuracy: 0.9490\n",
      "Epoch 183/1000\n",
      " 1/29 [>.............................] - ETA: 0s - loss: 0.5347 - accuracy: 0.7734\n",
      "Epoch 183: saving model to model/keypoint_classifier\\keypoint_classifier.hdf5\n",
      "29/29 [==============================] - 0s 3ms/step - loss: 0.5027 - accuracy: 0.8134 - val_loss: 0.2153 - val_accuracy: 0.9482\n",
      "Epoch 184/1000\n",
      " 1/29 [>.............................] - ETA: 0s - loss: 0.5035 - accuracy: 0.8281\n",
      "Epoch 184: saving model to model/keypoint_classifier\\keypoint_classifier.hdf5\n",
      "29/29 [==============================] - 0s 3ms/step - loss: 0.4711 - accuracy: 0.8256 - val_loss: 0.2134 - val_accuracy: 0.9474\n",
      "Epoch 185/1000\n",
      " 1/29 [>.............................] - ETA: 0s - loss: 0.4033 - accuracy: 0.8438\n",
      "Epoch 185: saving model to model/keypoint_classifier\\keypoint_classifier.hdf5\n",
      "29/29 [==============================] - 0s 3ms/step - loss: 0.4550 - accuracy: 0.8281 - val_loss: 0.2177 - val_accuracy: 0.9432\n",
      "Epoch 186/1000\n",
      " 1/29 [>.............................] - ETA: 0s - loss: 0.3877 - accuracy: 0.8750\n",
      "Epoch 186: saving model to model/keypoint_classifier\\keypoint_classifier.hdf5\n",
      "29/29 [==============================] - 0s 3ms/step - loss: 0.4720 - accuracy: 0.8192 - val_loss: 0.2212 - val_accuracy: 0.9390\n",
      "Epoch 187/1000\n",
      " 1/29 [>.............................] - ETA: 0s - loss: 0.3935 - accuracy: 0.8281\n",
      "Epoch 187: saving model to model/keypoint_classifier\\keypoint_classifier.hdf5\n",
      "29/29 [==============================] - 0s 3ms/step - loss: 0.4659 - accuracy: 0.8253 - val_loss: 0.2139 - val_accuracy: 0.9482\n",
      "Epoch 188/1000\n",
      " 1/29 [>.............................] - ETA: 0s - loss: 0.5722 - accuracy: 0.7578\n",
      "Epoch 188: saving model to model/keypoint_classifier\\keypoint_classifier.hdf5\n",
      "29/29 [==============================] - 0s 3ms/step - loss: 0.4615 - accuracy: 0.8290 - val_loss: 0.2057 - val_accuracy: 0.9515\n",
      "Epoch 189/1000\n",
      " 1/29 [>.............................] - ETA: 0s - loss: 0.3867 - accuracy: 0.8359\n",
      "Epoch 189: saving model to model/keypoint_classifier\\keypoint_classifier.hdf5\n",
      "29/29 [==============================] - 0s 3ms/step - loss: 0.4862 - accuracy: 0.8162 - val_loss: 0.2163 - val_accuracy: 0.9482\n"
     ]
    },
    {
     "name": "stdout",
     "output_type": "stream",
     "text": [
      "Epoch 190/1000\n",
      " 1/29 [>.............................] - ETA: 0s - loss: 0.4646 - accuracy: 0.8125\n",
      "Epoch 190: saving model to model/keypoint_classifier\\keypoint_classifier.hdf5\n",
      "29/29 [==============================] - 0s 3ms/step - loss: 0.4599 - accuracy: 0.8270 - val_loss: 0.2162 - val_accuracy: 0.9449\n",
      "Epoch 191/1000\n",
      "23/29 [======================>.......] - ETA: 0s - loss: 0.4674 - accuracy: 0.8251\n",
      "Epoch 191: saving model to model/keypoint_classifier\\keypoint_classifier.hdf5\n",
      "29/29 [==============================] - 0s 4ms/step - loss: 0.4675 - accuracy: 0.8237 - val_loss: 0.2027 - val_accuracy: 0.9499\n",
      "Epoch 191: early stopping\n"
     ]
    },
    {
     "data": {
      "text/plain": [
       "<keras.callbacks.History at 0x24f7b719540>"
      ]
     },
     "execution_count": 11,
     "metadata": {},
     "output_type": "execute_result"
    }
   ],
   "source": [
    "model.fit(\n",
    "    X_train,\n",
    "    y_train,\n",
    "    epochs=1000,\n",
    "    batch_size=128,\n",
    "    validation_data=(X_test, y_test),\n",
    "    callbacks=[cp_callback, es_callback]\n",
    ")"
   ]
  },
  {
   "cell_type": "code",
   "execution_count": 12,
   "metadata": {
    "colab": {
     "base_uri": "https://localhost:8080/"
    },
    "id": "pxvb2Y299hE3",
    "outputId": "59eb3185-2e37-4b9e-bc9d-ab1b8ac29b7f"
   },
   "outputs": [
    {
     "name": "stdout",
     "output_type": "stream",
     "text": [
      "10/10 [==============================] - 0s 1ms/step - loss: 0.2027 - accuracy: 0.9499\n"
     ]
    }
   ],
   "source": [
    "# Model evaluation\n",
    "val_loss, val_acc = model.evaluate(X_test, y_test, batch_size=128)"
   ]
  },
  {
   "cell_type": "code",
   "execution_count": 13,
   "metadata": {
    "id": "RBkmDeUW9hE4"
   },
   "outputs": [],
   "source": [
    "# Loading the saved model\n",
    "model = tf.keras.models.load_model(model_save_path)"
   ]
  },
  {
   "cell_type": "code",
   "execution_count": 14,
   "metadata": {
    "colab": {
     "base_uri": "https://localhost:8080/"
    },
    "id": "tFz9Tb0I9hE4",
    "outputId": "1c3b3528-54ae-4ee2-ab04-77429211cbef"
   },
   "outputs": [
    {
     "name": "stdout",
     "output_type": "stream",
     "text": [
      "1/1 [==============================] - 0s 101ms/step\n",
      "[9.7671062e-01 2.3116704e-02 1.6818412e-04 4.5708944e-06]\n",
      "0\n"
     ]
    }
   ],
   "source": [
    "# Inference test\n",
    "predict_result = model.predict(np.array([X_test[0]]))\n",
    "print(np.squeeze(predict_result))\n",
    "print(np.argmax(np.squeeze(predict_result)))"
   ]
  },
  {
   "cell_type": "markdown",
   "metadata": {
    "id": "S3U4yNWx9hE4"
   },
   "source": [
    "# Confusion matrix"
   ]
  },
  {
   "cell_type": "code",
   "execution_count": 15,
   "metadata": {
    "colab": {
     "base_uri": "https://localhost:8080/",
     "height": 582
    },
    "id": "AP1V6SCk9hE5",
    "outputId": "08e41a80-7a4a-4619-8125-ecc371368d19"
   },
   "outputs": [
    {
     "ename": "ModuleNotFoundError",
     "evalue": "No module named 'seaborn'",
     "output_type": "error",
     "traceback": [
      "\u001b[1;31m---------------------------------------------------------------------------\u001b[0m",
      "\u001b[1;31mModuleNotFoundError\u001b[0m                       Traceback (most recent call last)",
      "Cell \u001b[1;32mIn[15], line 2\u001b[0m\n\u001b[0;32m      1\u001b[0m \u001b[38;5;28;01mimport\u001b[39;00m \u001b[38;5;21;01mpandas\u001b[39;00m \u001b[38;5;28;01mas\u001b[39;00m \u001b[38;5;21;01mpd\u001b[39;00m\n\u001b[1;32m----> 2\u001b[0m \u001b[38;5;28;01mimport\u001b[39;00m \u001b[38;5;21;01mseaborn\u001b[39;00m \u001b[38;5;28;01mas\u001b[39;00m \u001b[38;5;21;01msns\u001b[39;00m\n\u001b[0;32m      3\u001b[0m \u001b[38;5;28;01mimport\u001b[39;00m \u001b[38;5;21;01mmatplotlib\u001b[39;00m\u001b[38;5;21;01m.\u001b[39;00m\u001b[38;5;21;01mpyplot\u001b[39;00m \u001b[38;5;28;01mas\u001b[39;00m \u001b[38;5;21;01mplt\u001b[39;00m\n\u001b[0;32m      4\u001b[0m \u001b[38;5;28;01mfrom\u001b[39;00m \u001b[38;5;21;01msklearn\u001b[39;00m\u001b[38;5;21;01m.\u001b[39;00m\u001b[38;5;21;01mmetrics\u001b[39;00m \u001b[38;5;28;01mimport\u001b[39;00m confusion_matrix, classification_report\n",
      "\u001b[1;31mModuleNotFoundError\u001b[0m: No module named 'seaborn'"
     ]
    }
   ],
   "source": [
    "import pandas as pd\n",
    "import seaborn as sns\n",
    "import matplotlib.pyplot as plt\n",
    "from sklearn.metrics import confusion_matrix, classification_report\n",
    "\n",
    "def print_confusion_matrix(y_true, y_pred, report=True):\n",
    "    labels = sorted(list(set(y_true)))\n",
    "    cmx_data = confusion_matrix(y_true, y_pred, labels=labels)\n",
    "    \n",
    "    df_cmx = pd.DataFrame(cmx_data, index=labels, columns=labels)\n",
    " \n",
    "    fig, ax = plt.subplots(figsize=(7, 6))\n",
    "    sns.heatmap(df_cmx, annot=True, fmt='g' ,square=False)\n",
    "    ax.set_ylim(len(set(y_true)), 0)\n",
    "    plt.show()\n",
    "    \n",
    "    if report:\n",
    "        print('Classification Report')\n",
    "        print(classification_report(y_test, y_pred))\n",
    "\n",
    "Y_pred = model.predict(X_test)\n",
    "y_pred = np.argmax(Y_pred, axis=1)\n",
    "\n",
    "print_confusion_matrix(y_test, y_pred)"
   ]
  },
  {
   "cell_type": "markdown",
   "metadata": {
    "id": "FNP6aqzc9hE5"
   },
   "source": [
    "# Convert to model for Tensorflow-Lite"
   ]
  },
  {
   "cell_type": "code",
   "execution_count": null,
   "metadata": {
    "id": "ODjnYyld9hE6"
   },
   "outputs": [],
   "source": [
    "# Save as a model dedicated to inference\n",
    "model.save(model_save_path, include_optimizer=False)"
   ]
  },
  {
   "cell_type": "code",
   "execution_count": null,
   "metadata": {
    "colab": {
     "base_uri": "https://localhost:8080/"
    },
    "id": "zRfuK8Y59hE6",
    "outputId": "a4ca585c-b5d5-4244-8291-8674063209bb"
   },
   "outputs": [],
   "source": [
    "# Transform model (quantization)\n",
    "\n",
    "converter = tf.lite.TFLiteConverter.from_keras_model(model)\n",
    "converter.optimizations = [tf.lite.Optimize.DEFAULT]\n",
    "tflite_quantized_model = converter.convert()\n",
    "\n",
    "open(tflite_save_path, 'wb').write(tflite_quantized_model)"
   ]
  },
  {
   "cell_type": "markdown",
   "metadata": {
    "id": "CHBPBXdx9hE6"
   },
   "source": [
    "# Inference test"
   ]
  },
  {
   "cell_type": "code",
   "execution_count": null,
   "metadata": {
    "id": "mGAzLocO9hE7"
   },
   "outputs": [],
   "source": [
    "interpreter = tf.lite.Interpreter(model_path=tflite_save_path)\n",
    "interpreter.allocate_tensors()"
   ]
  },
  {
   "cell_type": "code",
   "execution_count": null,
   "metadata": {
    "id": "oQuDK8YS9hE7"
   },
   "outputs": [],
   "source": [
    "# Get I / O tensor\n",
    "input_details = interpreter.get_input_details()\n",
    "output_details = interpreter.get_output_details()"
   ]
  },
  {
   "cell_type": "code",
   "execution_count": null,
   "metadata": {
    "id": "2_ixAf_l9hE7"
   },
   "outputs": [],
   "source": [
    "interpreter.set_tensor(input_details[0]['index'], np.array([X_test[0]]))"
   ]
  },
  {
   "cell_type": "code",
   "execution_count": null,
   "metadata": {
    "colab": {
     "base_uri": "https://localhost:8080/"
    },
    "id": "s4FoAnuc9hE7",
    "outputId": "91f18257-8d8b-4ef3-c558-e9b5f94fabbf",
    "scrolled": true
   },
   "outputs": [],
   "source": [
    "%%time\n",
    "# Inference implementation\n",
    "interpreter.invoke()\n",
    "tflite_results = interpreter.get_tensor(output_details[0]['index'])"
   ]
  },
  {
   "cell_type": "code",
   "execution_count": null,
   "metadata": {
    "colab": {
     "base_uri": "https://localhost:8080/"
    },
    "id": "vONjp19J9hE8",
    "outputId": "77205e24-fd00-42c4-f7b6-e06e527c2cba"
   },
   "outputs": [],
   "source": [
    "print(np.squeeze(tflite_results))\n",
    "print(np.argmax(np.squeeze(tflite_results)))"
   ]
  }
 ],
 "metadata": {
  "accelerator": "GPU",
  "colab": {
   "collapsed_sections": [],
   "name": "keypoint_classification_EN.ipynb",
   "provenance": [],
   "toc_visible": true
  },
  "kernelspec": {
   "display_name": "Python 3 (ipykernel)",
   "language": "python",
   "name": "python3"
  },
  "language_info": {
   "codemirror_mode": {
    "name": "ipython",
    "version": 3
   },
   "file_extension": ".py",
   "mimetype": "text/x-python",
   "name": "python",
   "nbconvert_exporter": "python",
   "pygments_lexer": "ipython3",
   "version": "3.10.0"
  }
 },
 "nbformat": 4,
 "nbformat_minor": 1
}
